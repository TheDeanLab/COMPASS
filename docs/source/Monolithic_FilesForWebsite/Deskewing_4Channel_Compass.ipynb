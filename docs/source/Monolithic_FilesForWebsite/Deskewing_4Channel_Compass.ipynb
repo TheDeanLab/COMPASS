{
 "cells": [
  {
   "cell_type": "code",
   "execution_count": null,
   "id": "97a6ad43-dfa9-41e8-92f1-6532be616690",
   "metadata": {},
   "outputs": [],
   "source": [
    "# Standard Library Imports\n",
    "import os\n",
    "import sys\n",
    "\n",
    "# Third Party Imports\n",
    "import numpy as np \n",
    "from tifffile import imread, imsave\n",
    "import matplotlib.pyplot as plt"
   ]
  },
  {
   "cell_type": "code",
   "execution_count": null,
   "id": "52f00b0e-c619-41a1-8740-a1692d6dcf88",
   "metadata": {},
   "outputs": [],
   "source": [
    "# Specify the size of your Z-step (the scan direction).\n",
    "dz = 0.2 # Use value straight from piezo translation\n",
    "\n",
    "# Specify your lateral pixel size.\n",
    "xypixelsize = 6.5/50 \n",
    "print(\"Pixel Size\", xypixelsize, dz)\n",
    "\n",
    "# Specify the angle of the illumination.\n",
    "angle = 60.5 \n",
    "\n",
    "\n",
    "# Image Path, use format as r'[insert text path copied here]'\n",
    "image_path = r''\n",
    "# Rename individual channels with your desired naming scheme\n",
    "image_name_0 = r'\\CH00_000000.tiff' \n",
    "image_name_1 = r'\\CH01_000000.tiff'\n",
    "image_name_2 = r'\\CH02_000000.tiff'\n",
    "image_name_3 = r'\\CH03_000000.tiff'"
   ]
  },
  {
   "cell_type": "code",
   "execution_count": null,
   "id": "06441583-bae7-49b8-bc13-9d20bf2ed593",
   "metadata": {},
   "outputs": [],
   "source": [
    "image_0 = imread((image_path+image_name_0))\n",
    "image_1 = imread((image_path+image_name_1))\n",
    "image_2 = imread((image_path+image_name_2))\n",
    "image_3 = imread((image_path+image_name_3))\n",
    "print(\"Image Dimensions:\", np.shape(image_0))"
   ]
  },
  {
   "cell_type": "markdown",
   "id": "0573c271-6278-48f3-a6b7-a0c634481820",
   "metadata": {},
   "source": [
    "### Define functions"
   ]
  },
  {
   "cell_type": "code",
   "execution_count": null,
   "id": "15e2765a-3ed4-480e-b8ba-b8f8a4a62bee",
   "metadata": {},
   "outputs": [],
   "source": [
    "def deskew(inArray, angle, dz, xypixelsize):\n",
    "    (z_len, y_len, x_len) = inArray.shape\n",
    "    Trans = np.cos(angle * np.pi / 180) * dz / xypixelsize\n",
    "    widenBy = np.uint16(np.ceil(z_len * np.cos(angle * np.pi / 180) * dz / xypixelsize))\n",
    "\n",
    "    inArrayWiden = np.zeros((z_len, y_len, x_len + widenBy))\n",
    "    inArrayWiden[:z_len, :y_len, :x_len] = inArray\n",
    "    output = np.zeros((z_len, y_len, x_len + widenBy))\n",
    "\n",
    "    xF, yF = np.meshgrid(np.arange(x_len + widenBy), np.arange(y_len))\n",
    "\n",
    "    for k in range(z_len):\n",
    "        inSlice = inArrayWiden[k, :, :]\n",
    "        inSliceFFT = np.fft.fftshift(np.fft.fft2(inSlice))\n",
    "        inSliceFFTTrans = inSliceFFT * np.exp(-1j * 2 * np.pi * xF * Trans * k / (x_len + widenBy))\n",
    "        output_temp = np.abs(np.fft.ifft2(np.fft.ifftshift(inSliceFFTTrans)))\n",
    "        output[k, :, :] = output_temp\n",
    "\n",
    "    output[output < 0] = 0\n",
    "    return np.uint16(output)  # return uint16 data to save as tiff\n",
    "\n",
    "def plot_image(image):\n",
    "    \"\"\" Plot maximum intensity projection of 3D image \n",
    "\n",
    "    Parameters\n",
    "    ----------\n",
    "    image : np.array\n",
    "        3D image array.\n",
    "    \"\"\"\n",
    "    ax1 = plt.subplot(311)\n",
    "    ax1.margins(0.05)           \n",
    "    ax1.imshow(np.max(image, 0))\n",
    "    ax2 = plt.subplot(312)\n",
    "    ax2.margins(0.05)           \n",
    "    ax2.imshow(np.max(image, 1))\n",
    "    ax3 = plt.subplot(313)\n",
    "    ax3.margins(0.05)           \n",
    "    ax3.imshow(np.max(image, 2))\n",
    "    plt.show()"
   ]
  },
  {
   "cell_type": "markdown",
   "id": "dfe2e810-679d-4b5e-b721-20cdccfa38f2",
   "metadata": {},
   "source": [
    "### Show Raw Data"
   ]
  },
  {
   "cell_type": "code",
   "execution_count": null,
   "id": "23f08424-a0d9-436a-a841-730dc1d90646",
   "metadata": {
    "scrolled": true
   },
   "outputs": [],
   "source": [
    "plot_image(image_0)"
   ]
  },
  {
   "cell_type": "code",
   "execution_count": null,
   "id": "47edd0e1-2523-4c60-a77c-b4bdb2d5269e",
   "metadata": {
    "scrolled": true
   },
   "outputs": [],
   "source": [
    "plot_image(image_1)"
   ]
  },
  {
   "cell_type": "code",
   "execution_count": null,
   "id": "c46c662a-f440-4834-96a5-9fb81ef9d810",
   "metadata": {
    "scrolled": true
   },
   "outputs": [],
   "source": [
    "plot_image(image_2)"
   ]
  },
  {
   "cell_type": "code",
   "execution_count": null,
   "id": "ed69128b-23a6-45fb-87e2-ae59b67f95c3",
   "metadata": {
    "scrolled": true
   },
   "outputs": [],
   "source": [
    "plot_image(image_3)"
   ]
  },
  {
   "cell_type": "markdown",
   "id": "6bd2097a-41e9-49b3-925c-0a19fd4b74a9",
   "metadata": {},
   "source": [
    "# Channel 0"
   ]
  },
  {
   "cell_type": "code",
   "execution_count": null,
   "id": "14e6812c-9eb4-48fc-b45b-2853af879b34",
   "metadata": {
    "scrolled": true
   },
   "outputs": [],
   "source": [
    "sheared_data_0 = deskew(inArray=image_0, angle=90-angle, dz=dz, xypixelsize=xypixelsize)\n",
    "print(\"Final image dimensions\", np.shape(sheared_data_0))\n",
    "plot_image(sheared_data_0)\n",
    "deskewed_image_name_0 = r'\\Deskewed_CH00.tiff'\n",
    "imsave((image_path+deskewed_image_name_0),\n",
    "       data=sheared_data_0)"
   ]
  },
  {
   "cell_type": "markdown",
   "id": "0e48fca3-f9e0-403c-817b-f8f21a61599f",
   "metadata": {},
   "source": [
    "# Channel 1"
   ]
  },
  {
   "cell_type": "code",
   "execution_count": null,
   "id": "6fe3546c-9564-4ce8-97d5-11111645c004",
   "metadata": {},
   "outputs": [],
   "source": [
    "sheared_data_1 = deskew(inArray=image_1, angle=90-angle, dz=dz, xypixelsize=xypixelsize)\n",
    "print(\"Final image dimensions\", np.shape(sheared_data_1))\n",
    "plot_image(sheared_data_1)\n",
    "deskewed_image_name_1 = r'\\Deskewed_CH01.tiff'\n",
    "imsave((image_path+deskewed_image_name_1),\n",
    "       data=sheared_data_1)"
   ]
  },
  {
   "cell_type": "markdown",
   "id": "60e4f1e3-7007-40b2-8105-8c1376acb63d",
   "metadata": {},
   "source": [
    "# Channel 2"
   ]
  },
  {
   "cell_type": "code",
   "execution_count": null,
   "id": "f1b6bd56-8b28-4b62-9351-74d36e59a329",
   "metadata": {},
   "outputs": [],
   "source": [
    "sheared_data_2 = deskew(inArray=image_2, angle=90-angle, dz=dz, xypixelsize=xypixelsize)\n",
    "print(\"Final image dimensions\", np.shape(sheared_data_2))\n",
    "plot_image(sheared_data_2)\n",
    "deskewed_image_name_2 = r'\\Deskewed_CH02.tiff'\n",
    "imsave((image_path+deskewed_image_name_2),\n",
    "       data=sheared_data_2)"
   ]
  },
  {
   "cell_type": "markdown",
   "id": "c2bf9559-1cc5-4ad0-983b-1bf9216f1403",
   "metadata": {},
   "source": [
    "# Channel 3"
   ]
  },
  {
   "cell_type": "code",
   "execution_count": null,
   "id": "444c461f-ab0f-43db-81ef-45c5495c62bc",
   "metadata": {},
   "outputs": [],
   "source": [
    "sheared_data_3 = deskew(inArray=image_3, angle=90-angle, dz=dz, xypixelsize=xypixelsize)\n",
    "print(\"Final image dimensions\", np.shape(sheared_data_1))\n",
    "plot_image(sheared_data_3)\n",
    "deskewed_image_name_3 = r'\\Deskewed_CH03.tiff'\n",
    "imsave((image_path+deskewed_image_name_3),\n",
    "       data=sheared_data_3)"
   ]
  },
  {
   "cell_type": "code",
   "execution_count": null,
   "id": "f9bb5fdc-7bfe-470b-871e-077ac477b4d0",
   "metadata": {},
   "outputs": [],
   "source": []
  },
  {
   "cell_type": "code",
   "execution_count": null,
   "id": "1df77646-3ac5-4266-83ee-ada5543b42a5",
   "metadata": {},
   "outputs": [],
   "source": []
  },
  {
   "cell_type": "code",
   "execution_count": null,
   "id": "a6d93ebb-e70b-43a0-a750-37e65e8fce23",
   "metadata": {},
   "outputs": [],
   "source": []
  }
 ],
 "metadata": {
  "kernelspec": {
   "display_name": "Python 3 (ipykernel)",
   "language": "python",
   "name": "python3"
  },
  "language_info": {
   "codemirror_mode": {
    "name": "ipython",
    "version": 3
   },
   "file_extension": ".py",
   "mimetype": "text/x-python",
   "name": "python",
   "nbconvert_exporter": "python",
   "pygments_lexer": "ipython3",
   "version": "3.12.3"
  }
 },
 "nbformat": 4,
 "nbformat_minor": 5
}
