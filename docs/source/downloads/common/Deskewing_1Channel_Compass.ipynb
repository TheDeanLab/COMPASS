{
 "cells": [
  {
   "cell_type": "code",
   "execution_count": null,
   "id": "97a6ad43-dfa9-41e8-92f1-6532be616690",
   "metadata": {},
   "outputs": [],
   "source": [
    "# Standard Library Imports\n",
    "import os\n",
    "import sys\n",
    "\n",
    "# Third Party Imports\n",
    "import numpy as np \n",
    "from tifffile import imread, imsave\n",
    "import matplotlib.pyplot as plt"
   ]
  },
  {
   "cell_type": "code",
   "execution_count": null,
   "id": "52f00b0e-c619-41a1-8740-a1692d6dcf88",
   "metadata": {},
   "outputs": [],
   "source": [
    "# Specify the size of your Z-step (the scan direction).\n",
    "dz = 0.2 # Use value straight from piezo\n",
    "\n",
    "# Specify your lateral pixel size.\n",
    "xypixelsize = 6.5/50\n",
    "print(\"Pixel Size\", xypixelsize, dz)\n",
    "\n",
    "# Specify the angle of the illumination.\n",
    "angle = 60.5\n",
    "\n",
    "\n",
    "# Image Path, use format as r'[insert text path copied here]'\n",
    "image_path = r''\n",
    "# Rename individual channel with your desired naming scheme\n",
    "image_name_0 = r'\\CH00_000000.tiff' \n",
    "image = imread((image_path+image_name))\n",
    "print(\"Image Dimensions:\", np.shape(image))\n"
   ]
  },
  {
   "cell_type": "markdown",
   "id": "0573c271-6278-48f3-a6b7-a0c634481820",
   "metadata": {},
   "source": [
    "### Define functions"
   ]
  },
  {
   "cell_type": "code",
   "execution_count": null,
   "id": "15e2765a-3ed4-480e-b8ba-b8f8a4a62bee",
   "metadata": {},
   "outputs": [],
   "source": [
    "def deskew(inArray, angle, dz, xypixelsize):\n",
    "    (z_len, y_len, x_len) = inArray.shape\n",
    "    Trans = np.cos(angle * np.pi / 180) * dz / xypixelsize\n",
    "    widenBy = np.uint16(np.ceil(z_len * np.cos(angle * np.pi / 180) * dz / xypixelsize))\n",
    "\n",
    "    inArrayWiden = np.zeros((z_len, y_len, x_len + widenBy))\n",
    "    inArrayWiden[:z_len, :y_len, :x_len] = inArray\n",
    "    output = np.zeros((z_len, y_len, x_len + widenBy))\n",
    "\n",
    "    xF, yF = np.meshgrid(np.arange(x_len + widenBy), np.arange(y_len))\n",
    "\n",
    "    for k in range(z_len):\n",
    "        inSlice = inArrayWiden[k, :, :]\n",
    "        inSliceFFT = np.fft.fftshift(np.fft.fft2(inSlice))\n",
    "        inSliceFFTTrans = inSliceFFT * np.exp(-1j * 2 * np.pi * xF * Trans * k / (x_len + widenBy))\n",
    "        output_temp = np.abs(np.fft.ifft2(np.fft.ifftshift(inSliceFFTTrans)))\n",
    "        output[k, :, :] = output_temp\n",
    "\n",
    "    output[output < 0] = 0\n",
    "    return np.uint16(output)  # return uint16 data to save as tiff\n",
    "\n",
    "def plot_image(image):\n",
    "    \"\"\" Plot maximum intensity projectio of 3D image \n",
    "\n",
    "    Parameters\n",
    "    ----------\n",
    "    image : np.array\n",
    "        3D image array.\n",
    "    \"\"\"\n",
    "    ax1 = plt.subplot(311)\n",
    "    ax1.margins(0.05)           \n",
    "    ax1.imshow(np.max(image, 0))\n",
    "    ax2 = plt.subplot(312)\n",
    "    ax2.margins(0.05)           \n",
    "    ax2.imshow(np.max(image, 1))\n",
    "    ax3 = plt.subplot(313)\n",
    "    ax3.margins(0.05)           \n",
    "    ax3.imshow(np.max(image, 2))\n",
    "    plt.show()"
   ]
  },
  {
   "cell_type": "markdown",
   "id": "dfe2e810-679d-4b5e-b721-20cdccfa38f2",
   "metadata": {},
   "source": [
    "### Show Raw Data"
   ]
  },
  {
   "cell_type": "code",
   "execution_count": null,
   "id": "f09307a9-3d6d-44be-a716-04a1934f4b0c",
   "metadata": {
    "scrolled": true
   },
   "outputs": [],
   "source": [
    "plot_image(image)"
   ]
  },
  {
   "cell_type": "markdown",
   "id": "6bd2097a-41e9-49b3-925c-0a19fd4b74a9",
   "metadata": {},
   "source": [
    "### Deskewed"
   ]
  },
  {
   "cell_type": "code",
   "execution_count": null,
   "id": "14e6812c-9eb4-48fc-b45b-2853af879b34",
   "metadata": {
    "scrolled": true
   },
   "outputs": [],
   "source": [
    "sheared_data = deskew(inArray=image, angle=90-angle, dz=dz, xypixelsize=xypixelsize)\n",
    "print(\"Final image dimensions\", np.shape(sheared_data))\n",
    "plot_image(sheared_data)\n",
    "deskewed_image_name = r'\\Deskewed.tiff'\n",
    "imsave((image_path+deskewed_image_name),\n",
    "       data=sheared_data)"
   ]
  }
 ],
 "metadata": {
  "kernelspec": {
   "display_name": "Python 3 (ipykernel)",
   "language": "python",
   "name": "python3"
  },
  "language_info": {
   "codemirror_mode": {
    "name": "ipython",
    "version": 3
   },
   "file_extension": ".py",
   "mimetype": "text/x-python",
   "name": "python",
   "nbconvert_exporter": "python",
   "pygments_lexer": "ipython3",
   "version": "3.12.3"
  }
 },
 "nbformat": 4,
 "nbformat_minor": 5
}
